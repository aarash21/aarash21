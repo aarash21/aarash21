{
  "nbformat": 4,
  "nbformat_minor": 0,
  "metadata": {
    "colab": {
      "provenance": [],
      "authorship_tag": "ABX9TyO1WikaatfjDZMdrD8knUIx",
      "include_colab_link": true
    },
    "kernelspec": {
      "name": "python3",
      "display_name": "Python 3"
    },
    "language_info": {
      "name": "python"
    }
  },
  "cells": [
    {
      "cell_type": "markdown",
      "metadata": {
        "id": "view-in-github",
        "colab_type": "text"
      },
      "source": [
        "<a href=\"https://colab.research.google.com/github/aarash21/aarash21/blob/main/06_02_2024.ipynb\" target=\"_parent\"><img src=\"https://colab.research.google.com/assets/colab-badge.svg\" alt=\"Open In Colab\"/></a>"
      ]
    },
    {
      "cell_type": "markdown",
      "source": [
        "**FUNCTIONS**"
      ],
      "metadata": {
        "id": "XR1XWN2niQll"
      }
    },
    {
      "cell_type": "code",
      "source": [
        "def func1():\n",
        "  print('welcome to python')\n",
        "  print('python is a multipurpose programming language')\n",
        "\n",
        "print(\"start the python\")\n",
        "func1()\n",
        "print(\"you can do anything in datascience using python\")\n"
      ],
      "metadata": {
        "colab": {
          "base_uri": "https://localhost:8080/"
        },
        "id": "y27cUYhYiV8A",
        "outputId": "d6e3274a-fb25-4732-d093-b931ec355f3b"
      },
      "execution_count": 3,
      "outputs": [
        {
          "output_type": "stream",
          "name": "stdout",
          "text": [
            "start the python\n",
            "welcome to python\n",
            "python is a multipurpose programming language\n",
            "you can do anything in datascience using python\n"
          ]
        }
      ]
    },
    {
      "cell_type": "code",
      "source": [
        "def func1(name):  #name is parameter\n",
        "  print(f'welcome to python {name}')\n",
        "  print('python is a multipurpose programming language')\n",
        "\n",
        "print(\"start the python\")\n",
        "func1(\"Aarash\")   #Aarash is argument\n",
        "print(\"you can do anything in datascience using python\")\n"
      ],
      "metadata": {
        "colab": {
          "base_uri": "https://localhost:8080/"
        },
        "id": "2yO-bbUnklyU",
        "outputId": "33deba4f-66fd-47ab-9534-83c1e541d28d"
      },
      "execution_count": 6,
      "outputs": [
        {
          "output_type": "stream",
          "name": "stdout",
          "text": [
            "start the python\n",
            "welcome to python Aarash\n",
            "python is a multipurpose programming language\n",
            "you can do anything in datascience using python\n"
          ]
        }
      ]
    },
    {
      "cell_type": "code",
      "source": [
        "def func1(f_name, l_name):  #name is parameter\n",
        "  print(f'welcome to python {f_name} {l_name}')\n",
        "  print('python is a multipurpose programming language')\n",
        "\n",
        "print(\"start the python\")\n",
        "func1(f_name=\"Aarash\", l_name=\"Mehta\")   #Aarash is argument\n",
        "print(\"you can do anything in datascience using python\")\n"
      ],
      "metadata": {
        "colab": {
          "base_uri": "https://localhost:8080/"
        },
        "id": "621JvP-Wle3a",
        "outputId": "1c2e1751-a81e-482e-b96d-a8a7ede27d33"
      },
      "execution_count": 8,
      "outputs": [
        {
          "output_type": "stream",
          "name": "stdout",
          "text": [
            "start the python\n",
            "welcome to python Aarash Mehta\n",
            "python is a multipurpose programming language\n",
            "you can do anything in datascience using python\n"
          ]
        }
      ]
    },
    {
      "cell_type": "code",
      "source": [
        "def cost_1(mrp, shipping, discount):\n",
        "  selling_price= mrp+shipping-discount\n",
        "  print(selling_price)\n",
        "\n",
        "print(\"total selling price\")\n",
        "cost_1(mrp=5000, discount=100, shipping=200)"
      ],
      "metadata": {
        "colab": {
          "base_uri": "https://localhost:8080/"
        },
        "id": "i7SE7-qQmvGU",
        "outputId": "ce505cf8-3b0e-4429-9daf-2fc54def985c"
      },
      "execution_count": 13,
      "outputs": [
        {
          "output_type": "stream",
          "name": "stdout",
          "text": [
            "total selling price\n",
            "5100\n"
          ]
        }
      ]
    },
    {
      "cell_type": "markdown",
      "source": [
        "**write a program to create a program that does arithmetic operations**"
      ],
      "metadata": {
        "id": "UBN4x19HocR_"
      }
    },
    {
      "cell_type": "code",
      "source": [
        "def calculator(num1, num2):\n",
        "    addition=num1+num2\n",
        "    subtraction=num1-num2\n",
        "    multiplication=num1*num2\n",
        "    division=num1/num2\n",
        "    print(addition)\n",
        "    print(subtraction)\n",
        "    print(multiplication)\n",
        "    print(division)\n",
        "\n",
        "print(\"calculator is ready\")\n",
        "calculator(10,2)"
      ],
      "metadata": {
        "colab": {
          "base_uri": "https://localhost:8080/"
        },
        "id": "sESbzm_7nGtS",
        "outputId": "2cba2319-c98e-46d6-92bb-d492557cc91e"
      },
      "execution_count": 28,
      "outputs": [
        {
          "output_type": "stream",
          "name": "stdout",
          "text": [
            "calculator is ready\n",
            "12\n",
            "8\n",
            "20\n",
            "5.0\n"
          ]
        }
      ]
    },
    {
      "cell_type": "code",
      "source": [
        "#message= input(\"enter\")\n",
        "def emoji_converter(message):\n",
        "  words = message.split(' ')  #converts input message into list of words\n",
        "  #create an emoji dictionery use windows logo key + dot(.) to add emojis\n",
        "  emojis = {\n",
        "          \":)\" : \"😊\",\n",
        "          \"(:\" : \"😔\"\n",
        "          }\n",
        "\n",
        "\n",
        "  output =''\n",
        "  for word in words:\n",
        "      output+=emojis.get(word, word)+\" \"\n",
        "  print(output)\n",
        "\n",
        "message= input(\"enter the message\")\n",
        "emoji_converter(message)"
      ],
      "metadata": {
        "colab": {
          "base_uri": "https://localhost:8080/"
        },
        "id": "jmLNo6kPrN6d",
        "outputId": "6200a4f6-f3cc-4e4c-b074-605b8e8c9a8c"
      },
      "execution_count": 43,
      "outputs": [
        {
          "output_type": "stream",
          "name": "stdout",
          "text": [
            "enter the message:)\n",
            "😊 \n"
          ]
        }
      ]
    },
    {
      "cell_type": "markdown",
      "source": [
        "**write a function to reverse a string**"
      ],
      "metadata": {
        "id": "GQUt7gnKvUE9"
      }
    },
    {
      "cell_type": "code",
      "source": [
        "txt = \"Hello World\"[::-1]\n",
        "print(txt)\n"
      ],
      "metadata": {
        "id": "NCAlkF78wU4y",
        "outputId": "cdd7478b-0a23-4544-c381-6849e1d6a954",
        "colab": {
          "base_uri": "https://localhost:8080/"
        }
      },
      "execution_count": 44,
      "outputs": [
        {
          "output_type": "stream",
          "name": "stdout",
          "text": [
            "dlroW olleH\n"
          ]
        }
      ]
    }
  ]
}