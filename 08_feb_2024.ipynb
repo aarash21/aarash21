{
  "nbformat": 4,
  "nbformat_minor": 0,
  "metadata": {
    "colab": {
      "provenance": [],
      "authorship_tag": "ABX9TyNVeWZ0efW8bZuvvHIeRllA",
      "include_colab_link": true
    },
    "kernelspec": {
      "name": "python3",
      "display_name": "Python 3"
    },
    "language_info": {
      "name": "python"
    }
  },
  "cells": [
    {
      "cell_type": "markdown",
      "metadata": {
        "id": "view-in-github",
        "colab_type": "text"
      },
      "source": [
        "<a href=\"https://colab.research.google.com/github/aarash21/aarash21/blob/main/08_feb_2024.ipynb\" target=\"_parent\"><img src=\"https://colab.research.google.com/assets/colab-badge.svg\" alt=\"Open In Colab\"/></a>"
      ]
    },
    {
      "cell_type": "code",
      "execution_count": 8,
      "metadata": {
        "colab": {
          "base_uri": "https://localhost:8080/"
        },
        "id": "SG-XBSMfrUNw",
        "outputId": "14d783f1-78ee-4f26-93db-11a6562d0de5"
      },
      "outputs": [
        {
          "output_type": "stream",
          "name": "stdout",
          "text": [
            "343\n"
          ]
        }
      ],
      "source": [
        "def cube(n):\n",
        "  return n**3\n",
        "\n",
        "result=cube(7)\n",
        "print(result)"
      ]
    },
    {
      "cell_type": "code",
      "source": [
        "def square(n):\n",
        "  return n**2\n",
        "\n",
        "def sum(a,b):\n",
        "  square(a)\n",
        "  return a+b\n",
        "\n",
        "result=square\n",
        "print(result(5))  #25\n",
        "summation=sum(5,7)   #12\n",
        "print(summation)"
      ],
      "metadata": {
        "colab": {
          "base_uri": "https://localhost:8080/"
        },
        "id": "qk1vscBIth9A",
        "outputId": "6556efbe-20ff-4adc-e321-52e4b509d632"
      },
      "execution_count": 12,
      "outputs": [
        {
          "output_type": "stream",
          "name": "stdout",
          "text": [
            "25\n",
            "12\n"
          ]
        }
      ]
    },
    {
      "cell_type": "code",
      "source": [
        "num_1=100\n",
        "def summ():\n",
        "  num_1=50\n",
        "  print(num_1)\n",
        "\n",
        "def summm():\n",
        "  print(num_1)\n",
        "\n",
        "summ()\n",
        "summm()"
      ],
      "metadata": {
        "colab": {
          "base_uri": "https://localhost:8080/"
        },
        "id": "7VCzsDb4uRyY",
        "outputId": "a8818f7e-7691-4be3-9a50-195bea5ca49e"
      },
      "execution_count": 13,
      "outputs": [
        {
          "output_type": "stream",
          "name": "stdout",
          "text": [
            "50\n",
            "100\n"
          ]
        }
      ]
    },
    {
      "cell_type": "code",
      "source": [
        "list_1= [1,2,3,4,5,6,7,8]\n",
        "def list_deletion():\n",
        "  del list_1[0]\n",
        "  print(list_1)\n",
        "\n",
        "def list_appendd():\n",
        "  list_1.append(40)\n",
        "  return list_1\n",
        "\n",
        "  #execution starts here\n",
        " list_1.deletion()\n",
        " #print(list_1)\n",
        " list_1.appendd()\n",
        " print(list_1)"
      ],
      "metadata": {
        "colab": {
          "base_uri": "https://localhost:8080/",
          "height": 140
        },
        "id": "5cYu2uqbyVKz",
        "outputId": "030542c6-ab9e-4ffd-925c-dca5076f604e"
      },
      "execution_count": 21,
      "outputs": [
        {
          "output_type": "error",
          "ename": "IndentationError",
          "evalue": "unindent does not match any outer indentation level (<tokenize>, line 11)",
          "traceback": [
            "\u001b[0;36m  File \u001b[0;32m\"<tokenize>\"\u001b[0;36m, line \u001b[0;32m11\u001b[0m\n\u001b[0;31m    list_1.deletion()\u001b[0m\n\u001b[0m    ^\u001b[0m\n\u001b[0;31mIndentationError\u001b[0m\u001b[0;31m:\u001b[0m unindent does not match any outer indentation level\n"
          ]
        }
      ]
    },
    {
      "cell_type": "markdown",
      "source": [
        "** WRITE A PYTHON PROGRAM THAT CALCULATES THE FREQUENCY OF WORDS IN A SENTENCE**"
      ],
      "metadata": {
        "id": "MgUGM8Xvz2mn"
      }
    },
    {
      "cell_type": "code",
      "source": [
        "def calculate_word_frequency():\n",
        "    words = sentence.split()\n",
        "    word_frequency = {}\n",
        "\n",
        "   for word in words:\n",
        "       word + word.lower()\n",
        "     word_frequency[word]= word_frequency.get(word, 0) +1\n",
        "\n",
        "   return word_frequency\n",
        "\n",
        "input_sentence = \"this is a program. this program is in python\"\n",
        "result = calculate_word_frequency(input_sentence)\n",
        "print(result)"
      ],
      "metadata": {
        "colab": {
          "base_uri": "https://localhost:8080/",
          "height": 140
        },
        "id": "5y6xVKnj0C-z",
        "outputId": "113096b0-b84e-41d8-c30a-809fce5f7518"
      },
      "execution_count": 27,
      "outputs": [
        {
          "output_type": "error",
          "ename": "IndentationError",
          "evalue": "unindent does not match any outer indentation level (<tokenize>, line 5)",
          "traceback": [
            "\u001b[0;36m  File \u001b[0;32m\"<tokenize>\"\u001b[0;36m, line \u001b[0;32m5\u001b[0m\n\u001b[0;31m    for word in words:\u001b[0m\n\u001b[0m    ^\u001b[0m\n\u001b[0;31mIndentationError\u001b[0m\u001b[0;31m:\u001b[0m unindent does not match any outer indentation level\n"
          ]
        }
      ]
    }
  ]
}