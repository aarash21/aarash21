{
  "nbformat": 4,
  "nbformat_minor": 0,
  "metadata": {
    "colab": {
      "provenance": [],
      "authorship_tag": "ABX9TyMQkOsfzCW71CUBWqZyO+S2",
      "include_colab_link": true
    },
    "kernelspec": {
      "name": "python3",
      "display_name": "Python 3"
    },
    "language_info": {
      "name": "python"
    }
  },
  "cells": [
    {
      "cell_type": "markdown",
      "metadata": {
        "id": "view-in-github",
        "colab_type": "text"
      },
      "source": [
        "<a href=\"https://colab.research.google.com/github/aarash21/aarash21/blob/main/14_03_2024.ipynb\" target=\"_parent\"><img src=\"https://colab.research.google.com/assets/colab-badge.svg\" alt=\"Open In Colab\"/></a>"
      ]
    },
    {
      "cell_type": "code",
      "execution_count": 3,
      "metadata": {
        "colab": {
          "base_uri": "https://localhost:8080/"
        },
        "id": "h624xRKe6adI",
        "outputId": "52ae968e-545f-4e01-c816-d9003b103f45"
      },
      "outputs": [
        {
          "output_type": "stream",
          "name": "stdout",
          "text": [
            "MY NAME IS RAM\n",
            "MY NAME IS AARASH\n"
          ]
        }
      ],
      "source": [
        "def ABC(text):\n",
        "  return text.upper()\n",
        "def dff(text):\n",
        "  return text.lower()\n",
        "\n",
        "print(ABC(\"My name is Ram\"))\n",
        "name=ABC\n",
        "print(name(\"My name is Aarash\"))\n"
      ]
    },
    {
      "cell_type": "code",
      "source": [
        "def greet(func):\n",
        "  greeting = func(\"welcome to the class\")\n",
        "  print(greeting)\n",
        "\n",
        "greet(ABC)\n",
        "greet(dff)"
      ],
      "metadata": {
        "colab": {
          "base_uri": "https://localhost:8080/"
        },
        "id": "YMuOmSNa7YBX",
        "outputId": "3ec833fc-da39-49df-973c-c9bc23dacb55"
      },
      "execution_count": 6,
      "outputs": [
        {
          "output_type": "stream",
          "name": "stdout",
          "text": [
            "WELCOME TO THE CLASS\n",
            "welcome to the class\n"
          ]
        }
      ]
    },
    {
      "cell_type": "code",
      "source": [
        "class Employee:\n",
        "  Name = \"Aarash\"\n",
        "  Dept = \"CSE\"\n",
        "\n",
        "def info(self, City):\n",
        "  print(self.Name , self.Dept , City)\n",
        "\n",
        "  E1 = Employee()\n",
        "  E2 = Employee()\n",
        "  City=\"Faridabad\"\n",
        "  E1.info\n",
        "  E2.info\n"
      ],
      "metadata": {
        "id": "q8lKe_XD9HT_"
      },
      "execution_count": 7,
      "outputs": []
    },
    {
      "cell_type": "code",
      "source": [
        "class Employee:\n",
        "  Name = \"Ram\"\n",
        "  Dept = \"HR\"\n",
        "\n",
        "  def__init__(Self,N,D):\n",
        "    self.N=N\n",
        "    self.D=D\n",
        "    print(self.N,self.D)\n",
        "def address(self,City):\n",
        "  print(City)\n",
        "  E1=Employee(\"Divya\",\"EIED\")\n",
        "  E2=Employee(\"Dev\",\"CSE\")"
      ],
      "metadata": {
        "id": "OU1OA4_D_6hi"
      },
      "execution_count": null,
      "outputs": []
    },
    {
      "cell_type": "code",
      "source": [
        "class Rectangle:\n",
        "  length=5\n",
        "  breadth=4\n",
        "  def area(self):\n",
        "    print(self.length*self.breadth)\n",
        "R1=Rectangle()\n",
        "R1=area()"
      ],
      "metadata": {
        "id": "eyRnkiMZCkrB"
      },
      "execution_count": null,
      "outputs": []
    },
    {
      "cell_type": "markdown",
      "source": [
        "** WAP to use a class to calculate area and perimeter of a square**"
      ],
      "metadata": {
        "id": "iG5rguOsDfrb"
      }
    },
    {
      "cell_type": "code",
      "source": [
        "class Square:\n",
        "  side=4\n",
        "\n",
        "  def area(self):\n",
        "    print(self.side*self.side)\n",
        "  def perimeter(self):\n",
        "    print(self.side*4)\n",
        "\n",
        "S1=Square()\n",
        "S1.area()\n",
        "S1.perimeter()\n",
        "\n",
        "\n",
        "\n",
        "\n"
      ],
      "metadata": {
        "colab": {
          "base_uri": "https://localhost:8080/"
        },
        "id": "SljRT0F8DwDA",
        "outputId": "d9b608ab-8d06-44d9-d1ca-b3ea7b12a432"
      },
      "execution_count": 18,
      "outputs": [
        {
          "output_type": "stream",
          "name": "stdout",
          "text": [
            "16\n",
            "16\n"
          ]
        }
      ]
    },
    {
      "cell_type": "markdown",
      "source": [
        "**Create a class to generate a table of n where n can be any number**\n",
        "\n",
        "**factorial function**\n",
        "\n",
        "**square function**\n",
        "\n",
        "**cube function**\n"
      ],
      "metadata": {
        "id": "jqPMlsMtJ2fH"
      }
    }
  ]
}