{
  "nbformat": 4,
  "nbformat_minor": 0,
  "metadata": {
    "colab": {
      "provenance": [],
      "authorship_tag": "ABX9TyPaEnfVbU4Tc6Up9pwGVZ93",
      "include_colab_link": true
    },
    "kernelspec": {
      "name": "python3",
      "display_name": "Python 3"
    },
    "language_info": {
      "name": "python"
    }
  },
  "cells": [
    {
      "cell_type": "markdown",
      "metadata": {
        "id": "view-in-github",
        "colab_type": "text"
      },
      "source": [
        "<a href=\"https://colab.research.google.com/github/aarash21/aarash21/blob/main/20_02_2024.ipynb\" target=\"_parent\"><img src=\"https://colab.research.google.com/assets/colab-badge.svg\" alt=\"Open In Colab\"/></a>"
      ]
    },
    {
      "cell_type": "markdown",
      "source": [
        " **write a function to calculate maximum value from a list and pass the value to get the value from another python file**"
      ],
      "metadata": {
        "id": "3Y9HKzvdwCJB"
      }
    },
    {
      "cell_type": "markdown",
      "source": [
        "calculate maximum value from a list using :\n",
        "1. loop only\n",
        "2. function\n",
        "3. modules"
      ],
      "metadata": {
        "id": "ac1WGrB2xJHr"
      }
    },
    {
      "cell_type": "code",
      "source": [
        "list_1 = [3,45,22,333,6868,309]\n",
        "a=list_1[0]\n",
        "for i in list_1:\n",
        "  if i>a:\n",
        "    a=i\n",
        "print(a)"
      ],
      "metadata": {
        "colab": {
          "base_uri": "https://localhost:8080/"
        },
        "id": "mP05hne4x1tt",
        "outputId": "1a2aa36b-8ec5-42b1-ac12-c6d48052a207"
      },
      "execution_count": 9,
      "outputs": [
        {
          "output_type": "stream",
          "name": "stdout",
          "text": [
            "6868\n"
          ]
        }
      ]
    },
    {
      "cell_type": "code",
      "source": [
        "\n",
        "def maximum(num):\n",
        "  a=list_1[0]\n",
        "  for i in list_1:\n",
        "    if i>a:\n",
        "      a=i\n",
        "  return a\n",
        "\n",
        "list_1 = [3,45,22,333,6868,309]\n",
        "print(maximum(list_1))"
      ],
      "metadata": {
        "colab": {
          "base_uri": "https://localhost:8080/"
        },
        "id": "cVwOR4S8z0uE",
        "outputId": "9a611b63-b9d2-401c-f903-34dddaf59dc8"
      },
      "execution_count": 20,
      "outputs": [
        {
          "output_type": "stream",
          "name": "stdout",
          "text": [
            "6868\n"
          ]
        }
      ]
    },
    {
      "cell_type": "code",
      "source": [
        "list_1 = [3,45,22,333,6868,309]\n",
        "maximum = max(list_1)\n",
        "print(maximum)"
      ],
      "metadata": {
        "colab": {
          "base_uri": "https://localhost:8080/"
        },
        "id": "Lje67AvTxnLq",
        "outputId": "bef2e212-429a-488a-d26c-6fbf4352eab3"
      },
      "execution_count": 10,
      "outputs": [
        {
          "output_type": "stream",
          "name": "stdout",
          "text": [
            "6868\n"
          ]
        }
      ]
    },
    {
      "cell_type": "code",
      "source": [],
      "metadata": {
        "colab": {
          "base_uri": "https://localhost:8080/"
        },
        "id": "Qpf3DO683u__",
        "outputId": "d46b9727-69e0-41f1-95ab-6d4a6ee8b3d5"
      },
      "execution_count": 22,
      "outputs": [
        {
          "output_type": "stream",
          "name": "stdout",
          "text": [
            "/usr/bin/python3: No module named calender\n"
          ]
        }
      ]
    },
    {
      "cell_type": "code",
      "source": [],
      "metadata": {
        "id": "7D0RIw-d4mTI"
      },
      "execution_count": null,
      "outputs": []
    }
  ]
}