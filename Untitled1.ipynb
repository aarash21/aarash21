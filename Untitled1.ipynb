{
  "nbformat": 4,
  "nbformat_minor": 0,
  "metadata": {
    "colab": {
      "provenance": [],
      "authorship_tag": "ABX9TyN76CqvW6w98gw7JEPT04Wm",
      "include_colab_link": true
    },
    "kernelspec": {
      "name": "python3",
      "display_name": "Python 3"
    },
    "language_info": {
      "name": "python"
    }
  },
  "cells": [
    {
      "cell_type": "markdown",
      "metadata": {
        "id": "view-in-github",
        "colab_type": "text"
      },
      "source": [
        "<a href=\"https://colab.research.google.com/github/aarash21/aarash21/blob/main/Untitled1.ipynb\" target=\"_parent\"><img src=\"https://colab.research.google.com/assets/colab-badge.svg\" alt=\"Open In Colab\"/></a>"
      ]
    },
    {
      "cell_type": "markdown",
      "source": [
        "while and for loops"
      ],
      "metadata": {
        "id": "MSKLMyRj31ii"
      }
    },
    {
      "cell_type": "code",
      "source": [
        "i=0\n",
        "while i<=10:\n",
        "  print(i)\n",
        "  i+=1               #i=i+1\n"
      ],
      "metadata": {
        "colab": {
          "base_uri": "https://localhost:8080/"
        },
        "id": "M1rQdwV034N6",
        "outputId": "93d69aab-023d-49de-d7b2-6e68bd57dd49"
      },
      "execution_count": null,
      "outputs": [
        {
          "output_type": "stream",
          "name": "stdout",
          "text": [
            "0\n",
            "1\n",
            "2\n",
            "3\n",
            "4\n",
            "5\n",
            "6\n",
            "7\n",
            "8\n",
            "9\n",
            "10\n"
          ]
        }
      ]
    },
    {
      "cell_type": "code",
      "source": [
        "i=0\n",
        "while i<=10:\n",
        "  print(i*'*')\n",
        "  i+=1               #i=i+1\n"
      ],
      "metadata": {
        "colab": {
          "base_uri": "https://localhost:8080/"
        },
        "id": "rei-hf1m5ucq",
        "outputId": "a2f85931-a05d-47b8-fea0-d09922a0ef56"
      },
      "execution_count": null,
      "outputs": [
        {
          "output_type": "stream",
          "name": "stdout",
          "text": [
            "\n",
            "*\n",
            "**\n",
            "***\n",
            "****\n",
            "*****\n",
            "******\n",
            "*******\n",
            "********\n",
            "*********\n",
            "**********\n"
          ]
        }
      ]
    },
    {
      "cell_type": "code",
      "source": [
        "for i<=10:\n",
        "  print(i)"
      ],
      "metadata": {
        "colab": {
          "base_uri": "https://localhost:8080/",
          "height": 140
        },
        "id": "1zqYT_S24757",
        "outputId": "f49e92f1-dcd7-46ba-b1e5-b17a2157c705"
      },
      "execution_count": null,
      "outputs": [
        {
          "output_type": "error",
          "ename": "SyntaxError",
          "evalue": "invalid syntax (<ipython-input-4-98cb831dfb91>, line 1)",
          "traceback": [
            "\u001b[0;36m  File \u001b[0;32m\"<ipython-input-4-98cb831dfb91>\"\u001b[0;36m, line \u001b[0;32m1\u001b[0m\n\u001b[0;31m    for i<=10:\u001b[0m\n\u001b[0m         ^\u001b[0m\n\u001b[0;31mSyntaxError\u001b[0m\u001b[0;31m:\u001b[0m invalid syntax\n"
          ]
        }
      ]
    },
    {
      "cell_type": "code",
      "source": [
        "for i in 'python':\n",
        "   print(i)"
      ],
      "metadata": {
        "colab": {
          "base_uri": "https://localhost:8080/"
        },
        "id": "oDf85mTH54t5",
        "outputId": "7a4a5d4c-93d3-4ff1-932c-e82d39462b47"
      },
      "execution_count": null,
      "outputs": [
        {
          "output_type": "stream",
          "name": "stdout",
          "text": [
            "p\n",
            "y\n",
            "t\n",
            "h\n",
            "o\n",
            "n\n"
          ]
        }
      ]
    },
    {
      "cell_type": "code",
      "source": [
        "for i in range(2,20,2):\n",
        "  print(i)"
      ],
      "metadata": {
        "colab": {
          "base_uri": "https://localhost:8080/"
        },
        "id": "GNQnDZn-6QAH",
        "outputId": "acc2593d-a783-4c07-ce1c-2da97a3a659e"
      },
      "execution_count": null,
      "outputs": [
        {
          "output_type": "stream",
          "name": "stdout",
          "text": [
            "2\n",
            "4\n",
            "6\n",
            "8\n",
            "10\n",
            "12\n",
            "14\n",
            "16\n",
            "18\n"
          ]
        }
      ]
    },
    {
      "cell_type": "code",
      "source": [],
      "metadata": {
        "id": "IyHYt4ki98So"
      },
      "execution_count": null,
      "outputs": []
    },
    {
      "cell_type": "markdown",
      "source": [],
      "metadata": {
        "id": "cmSRW8Lo6iOW"
      }
    },
    {
      "cell_type": "code",
      "source": [
        "for i in 'AARASH':\n",
        "   print(i)"
      ],
      "metadata": {
        "colab": {
          "base_uri": "https://localhost:8080/"
        },
        "id": "clnY22Kg6s05",
        "outputId": "dc561eea-8ad4-43f4-dc61-f4125cdba8f0"
      },
      "execution_count": null,
      "outputs": [
        {
          "output_type": "stream",
          "name": "stdout",
          "text": [
            "A\n",
            "A\n",
            "R\n",
            "A\n",
            "S\n",
            "H\n"
          ]
        }
      ]
    },
    {
      "cell_type": "code",
      "source": [
        "a=[1,2]\n",
        "b=[3,4]\n",
        "for i in a:\n",
        "  for j in b:\n",
        "    print(\"inside the inner loop\")\n",
        "    print(i,j)\n",
        "  print(\"outside the inner loop\")"
      ],
      "metadata": {
        "colab": {
          "base_uri": "https://localhost:8080/"
        },
        "id": "nSpXU53n9-Cv",
        "outputId": "a7780228-8b14-4165-ced7-fce6716b1c3e"
      },
      "execution_count": null,
      "outputs": [
        {
          "output_type": "stream",
          "name": "stdout",
          "text": [
            "inside the inner loop\n",
            "1 3\n",
            "inside the inner loop\n",
            "1 4\n",
            "outside the inner loop\n",
            "inside the inner loop\n",
            "2 3\n",
            "inside the inner loop\n",
            "2 4\n",
            "outside the inner loop\n"
          ]
        }
      ]
    },
    {
      "cell_type": "code",
      "source": [
        "sec_num = 7\n",
        "guess_count= 0\n",
        "guess= int(input(\"enter the number to guess:    \"))\n",
        "while guess_count <= 3 :\n",
        "   if guess != sec_num:\n",
        "    print(\"try again\")\n",
        "    guess_count+=1\n",
        "    guess= int(input(\"enter the number to guess:    \"))\n",
        "   else:\n",
        "      guess == sec_num\n",
        "      print(\"you won\")\n",
        "      break"
      ],
      "metadata": {
        "colab": {
          "base_uri": "https://localhost:8080/"
        },
        "id": "bDjizMah_fCy",
        "outputId": "41797faf-db2c-4667-dde5-5cc3c1a10413"
      },
      "execution_count": null,
      "outputs": [
        {
          "output_type": "stream",
          "name": "stdout",
          "text": [
            "enter the number to guess:    6\n",
            "try again\n",
            "enter the number to guess:    7\n",
            "you won\n"
          ]
        }
      ]
    },
    {
      "cell_type": "markdown",
      "source": [
        "**Write a program to calculate factorial of a number**"
      ],
      "metadata": {
        "id": "00jMijLfEiSH"
      }
    },
    {
      "cell_type": "code",
      "source": [
        "n=int(input(\"enter the number you want factorial of:    \"))\n",
        "fact=1\n",
        "for i in range(n):\n",
        "  fact*=(i+1)\n",
        "print(\"the factorial of \" , n,\"is\", fact)\n"
      ],
      "metadata": {
        "colab": {
          "base_uri": "https://localhost:8080/"
        },
        "id": "N-XnuNH_DTnl",
        "outputId": "8b3676bf-f42e-41a3-a6dd-1376d5fbb3ab"
      },
      "execution_count": null,
      "outputs": [
        {
          "output_type": "stream",
          "name": "stdout",
          "text": [
            "enter the number you want factorial of:    4\n",
            "the factorial of  4 is 24\n"
          ]
        }
      ]
    }
  ]
}