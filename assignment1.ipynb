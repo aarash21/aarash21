{
  "nbformat": 4,
  "nbformat_minor": 0,
  "metadata": {
    "colab": {
      "provenance": [],
      "authorship_tag": "ABX9TyO/nhkpK0YKJbHjRPIKO/lj",
      "include_colab_link": true
    },
    "kernelspec": {
      "name": "python3",
      "display_name": "Python 3"
    },
    "language_info": {
      "name": "python"
    }
  },
  "cells": [
    {
      "cell_type": "markdown",
      "metadata": {
        "id": "view-in-github",
        "colab_type": "text"
      },
      "source": [
        "<a href=\"https://colab.research.google.com/github/aarash21/aarash21/blob/main/assignment1.ipynb\" target=\"_parent\"><img src=\"https://colab.research.google.com/assets/colab-badge.svg\" alt=\"Open In Colab\"/></a>"
      ]
    },
    {
      "cell_type": "code",
      "execution_count": null,
      "metadata": {
        "id": "YosNmz0wWHqo"
      },
      "outputs": [],
      "source": [
        "from proj1_fn import new_std, student, stu_details, stu_del, teacher, new_teacher, teacher_details, teacher_del\n",
        "\n",
        "\n",
        "while True:\n",
        "    ch=input(\"Enter a choice:\\n1.New Admission\\n2.Students Name\\n3.Specific Student details\\n4.Delete Student\\n5.Teachers name\\n6.New Teacher\\n7.Specific Teachers Detail\\n8.Delete Teachers\\n9.Exit\\n\")\n",
        "\n",
        "    if ch=='1':\n",
        "        name=input(\"Enter name of student:\")\n",
        "        pr_name=input(\"Enter the name of parent:\")\n",
        "        roll=input(\"Enter roll number:\")\n",
        "        course=input(\"Enter course:\")\n",
        "        new_std(name, pr_name, roll, course) #calls function for new admission\n",
        "\n",
        "    elif ch=='2':\n",
        "        student() #calls a function to display admitted students name\n",
        "\n",
        "    elif ch=='3':\n",
        "        search=input(\"Enter student's name to search\")\n",
        "        stu_details(search) #calls a function for displaying a specific student's details\n",
        "\n",
        "    elif ch=='4':\n",
        "        rem=input(\"Enter name of student to be deleted:\")\n",
        "        stu_del(rem) #calls a function to remove a student\n",
        "\n",
        "    elif ch=='5':\n",
        "        teacher() #calls a function to display admitted students name\n",
        "\n",
        "    elif ch=='6':\n",
        "        t_name=input(\"Enter teacher's name:\")\n",
        "        age=input(\"Enter teacher's age:\")\n",
        "        branch=input(\"Enter teacher's branch:\")\n",
        "        new_teacher(t_name, age, branch) #calls a function for new teacher's entry\n",
        "\n",
        "    elif ch=='7':\n",
        "        t_search=input(\"Enter name of teacher to be searched:\")\n",
        "        teacher_details(t_search) #calls a function for displaying a specific teacher's details\n",
        "\n",
        "    elif ch=='8':\n",
        "        t_rem=input(\"Enter name of teacher to be deleted:\")\n",
        "        teacher_del(t_rem) #calls a function to remove a teacher\n",
        "\n",
        "    else: #default option\n",
        "        break\n"
      ]
    }
  ]
}