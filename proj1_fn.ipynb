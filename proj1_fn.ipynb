{
  "nbformat": 4,
  "nbformat_minor": 0,
  "metadata": {
    "colab": {
      "provenance": [],
      "authorship_tag": "ABX9TyMsy0znvfX5qCE0zCldWpto",
      "include_colab_link": true
    },
    "kernelspec": {
      "name": "python3",
      "display_name": "Python 3"
    },
    "language_info": {
      "name": "python"
    }
  },
  "cells": [
    {
      "cell_type": "markdown",
      "metadata": {
        "id": "view-in-github",
        "colab_type": "text"
      },
      "source": [
        "<a href=\"https://colab.research.google.com/github/aarash21/aarash21/blob/main/proj1_fn.ipynb\" target=\"_parent\"><img src=\"https://colab.research.google.com/assets/colab-badge.svg\" alt=\"Open In Colab\"/></a>"
      ]
    },
    {
      "cell_type": "code",
      "execution_count": 2,
      "metadata": {
        "id": "NkmEZevkUxQH"
      },
      "outputs": [],
      "source": [
        "students={} #dictionary to store details of students\n",
        "teachers={} #dictionary to store details of teachers\n",
        "\n",
        "\n",
        "def new_std(name, pr_name, roll, course): #function for new entry of student\n",
        "    students[name]=[pr_name,roll,course]\n",
        "\n",
        "def student():\n",
        "    print(students.keys()) #displays admitted student's name using keys of dictionary\n",
        "\n",
        "def stu_details(search): #function to find out any specific student's detail\n",
        "    if search in students.keys():\n",
        "        print(\"[Parents's name, Age, Course] are as below \\n\")\n",
        "        print(students[search])\n",
        "    else:\n",
        "        print(\"This student isn't admitted\")\n",
        "\n",
        "def stu_del(rem): #function to remove a student from institute\n",
        "    if rem in students.keys():\n",
        "        del students[rem]\n",
        "    else:\n",
        "        print(\"Student's name is not present\")\n",
        "\n",
        "def new_teacher(t_name, age, branch): #function for entry of any new teacher\n",
        "    teachers[t_name]=[age,branch]\n",
        "\n",
        "def teacher():\n",
        "    print(teachers.keys()) #displays present teacher's name using keys of dictionary\n",
        "\n",
        "def teacher_details(t_search): #function to find out any specific teacher's detail\n",
        "    if t_search in teachers.keys():\n",
        "        print(\"[Age, Branch] are as below \\n\")\n",
        "        print(teachers[t_search])\n",
        "    else:\n",
        "        print(\"No teacher named\",t_search)\n",
        "\n",
        "def teacher_del(t_rem): #function to remove a teacher from institute\n",
        "    if t_rem in teachers.keys():\n",
        "        del teachers[t_rem]\n",
        "    else:\n",
        "        print(\"Teacher's name is not present\")\n",
        "\n"
      ]
    }
  ]
}