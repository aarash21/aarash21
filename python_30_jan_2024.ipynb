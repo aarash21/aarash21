{
  "nbformat": 4,
  "nbformat_minor": 0,
  "metadata": {
    "colab": {
      "provenance": [],
      "authorship_tag": "ABX9TyO6t5QGnukTkqwrIDQG4Yny",
      "include_colab_link": true
    },
    "kernelspec": {
      "name": "python3",
      "display_name": "Python 3"
    },
    "language_info": {
      "name": "python"
    }
  },
  "cells": [
    {
      "cell_type": "markdown",
      "metadata": {
        "id": "view-in-github",
        "colab_type": "text"
      },
      "source": [
        "<a href=\"https://colab.research.google.com/github/aarash21/aarash21/blob/main/python_30_jan_2024.ipynb\" target=\"_parent\"><img src=\"https://colab.research.google.com/assets/colab-badge.svg\" alt=\"Open In Colab\"/></a>"
      ]
    },
    {
      "cell_type": "markdown",
      "source": [
        "**LISTS AND TUPLES**"
      ],
      "metadata": {
        "id": "nlUkjOd_sjHG"
      }
    },
    {
      "cell_type": "code",
      "execution_count": 1,
      "metadata": {
        "colab": {
          "base_uri": "https://localhost:8080/"
        },
        "id": "az8pmZpJe7c9",
        "outputId": "6d5b30fb-26a7-4aa7-90d1-3a9ad9d24972"
      },
      "outputs": [
        {
          "output_type": "stream",
          "name": "stdout",
          "text": [
            "\\\n"
          ]
        }
      ],
      "source": [
        "print('\\\\')\n"
      ]
    },
    {
      "cell_type": "code",
      "source": [
        "print(\"\\a\")"
      ],
      "metadata": {
        "colab": {
          "base_uri": "https://localhost:8080/"
        },
        "id": "PWqihbJjihWF",
        "outputId": "537ca072-bede-44d8-fce3-7ada2a3a2243"
      },
      "execution_count": 4,
      "outputs": [
        {
          "output_type": "stream",
          "name": "stdout",
          "text": [
            "\u0007\n"
          ]
        }
      ]
    },
    {
      "cell_type": "code",
      "source": [
        "print('hello \\t world')"
      ],
      "metadata": {
        "colab": {
          "base_uri": "https://localhost:8080/"
        },
        "id": "dfkdRpOFisAD",
        "outputId": "94c25b86-dab0-472c-f09e-ca3c32d06ab2"
      },
      "execution_count": 5,
      "outputs": [
        {
          "output_type": "stream",
          "name": "stdout",
          "text": [
            "hello \t world\n"
          ]
        }
      ]
    },
    {
      "cell_type": "code",
      "source": [
        "print(\"hello\\nworld\")"
      ],
      "metadata": {
        "colab": {
          "base_uri": "https://localhost:8080/"
        },
        "id": "ITxeQuJqjZpg",
        "outputId": "3d988a00-9d91-4601-f5db-19cfd11c5920"
      },
      "execution_count": 7,
      "outputs": [
        {
          "output_type": "stream",
          "name": "stdout",
          "text": [
            "hello\n",
            "world\n"
          ]
        }
      ]
    },
    {
      "cell_type": "code",
      "source": [
        "print(\"what\\'s your name\")"
      ],
      "metadata": {
        "colab": {
          "base_uri": "https://localhost:8080/"
        },
        "id": "DT54IgfIjcbR",
        "outputId": "075c8705-81c3-4ccf-8e5e-7e389d9650d7"
      },
      "execution_count": 8,
      "outputs": [
        {
          "output_type": "stream",
          "name": "stdout",
          "text": [
            "what's your name\n"
          ]
        }
      ]
    },
    {
      "cell_type": "code",
      "source": [
        "print(R\"what\\'s your name\")"
      ],
      "metadata": {
        "colab": {
          "base_uri": "https://localhost:8080/"
        },
        "id": "LsCnugX7kJBm",
        "outputId": "5a5667af-665b-4eb7-ba9c-260c10345296"
      },
      "execution_count": 9,
      "outputs": [
        {
          "output_type": "stream",
          "name": "stdout",
          "text": [
            "what\\'s your name\n"
          ]
        }
      ]
    },
    {
      "cell_type": "code",
      "source": [
        "a=[1,2,3,'a','aarash']\n",
        "print(type(a))"
      ],
      "metadata": {
        "colab": {
          "base_uri": "https://localhost:8080/"
        },
        "id": "Z7L3A00GkZJs",
        "outputId": "ea91ab9a-a77a-4737-cb6a-7f0fccfe9a0f"
      },
      "execution_count": 10,
      "outputs": [
        {
          "output_type": "stream",
          "name": "stdout",
          "text": [
            "<class 'list'>\n"
          ]
        }
      ]
    },
    {
      "cell_type": "code",
      "source": [
        "list=[1,2,3,'a','aarash']\n",
        "list2=[5,6,7,8,]\n",
        "print(list[0])\n",
        "print(list[1:3])\n",
        "print(list[2:])\n",
        "print(list *2)\n",
        "print(list + list2)"
      ],
      "metadata": {
        "colab": {
          "base_uri": "https://localhost:8080/"
        },
        "id": "aqxE7AAomH79",
        "outputId": "1eebb94c-5212-4f24-a7e5-09bb4953258e"
      },
      "execution_count": 11,
      "outputs": [
        {
          "output_type": "stream",
          "name": "stdout",
          "text": [
            "1\n",
            "[2, 3]\n",
            "[3, 'a', 'aarash']\n",
            "[1, 2, 3, 'a', 'aarash', 1, 2, 3, 'a', 'aarash']\n",
            "[1, 2, 3, 'a', 'aarash', 5, 6, 7, 8]\n"
          ]
        }
      ]
    },
    {
      "cell_type": "code",
      "source": [
        "names=[\"aarash\",\"akshat\",\"vedaant\",\"jeetu\", \"nishkarsh\"]\n",
        "print(names[0])\n",
        "print(names[-4])\n",
        "names[2]=\"aditya\"      #replacement at location 2\n",
        "print(names)\n",
        "\n",
        "print(names[0:3])\n",
        "\n",
        "names.append(\"kuku\")   #list ke last me add ho jayega\n",
        "print(names)\n",
        "\n",
        "names.insert(0,\"bhalu\")\n",
        "print(names)\n",
        "\n",
        "names.remove(\"jeetu\")\n",
        "print(names)\n",
        "\n",
        "print(\"aarash\" in names)\n",
        "\n",
        "print(len(names))\n",
        "\n",
        "names.clear()    #list me sab elements hat jayega but it will be still a list kyuki list delete nhi hogi bas ander ke elements delete ho jayenge\n",
        "print(names)\n"
      ],
      "metadata": {
        "colab": {
          "base_uri": "https://localhost:8080/"
        },
        "id": "h6RjFQ6uogbf",
        "outputId": "fb6b25fc-0b75-4521-d124-743ca79121d8"
      },
      "execution_count": 12,
      "outputs": [
        {
          "output_type": "stream",
          "name": "stdout",
          "text": [
            "aarash\n",
            "akshat\n",
            "['aarash', 'akshat', 'aditya', 'jeetu', 'nishkarsh']\n",
            "['aarash', 'akshat', 'aditya']\n",
            "['aarash', 'akshat', 'aditya', 'jeetu', 'nishkarsh', 'kuku']\n",
            "['bhalu', 'aarash', 'akshat', 'aditya', 'jeetu', 'nishkarsh', 'kuku']\n",
            "['bhalu', 'aarash', 'akshat', 'aditya', 'nishkarsh', 'kuku']\n",
            "True\n",
            "6\n",
            "[]\n"
          ]
        }
      ]
    },
    {
      "cell_type": "code",
      "source": [
        "num_list= [1,2,3,4,5,6,\"aarash\", \"kuku\", \"bhalu\"]\n",
        "for i in num_list:\n",
        "  print(i)"
      ],
      "metadata": {
        "colab": {
          "base_uri": "https://localhost:8080/"
        },
        "id": "mN4E7bNeraGY",
        "outputId": "a3635cf0-408f-401d-ca95-1fc1a15f66e6"
      },
      "execution_count": 14,
      "outputs": [
        {
          "output_type": "stream",
          "name": "stdout",
          "text": [
            "1\n",
            "2\n",
            "3\n",
            "4\n",
            "5\n",
            "6\n",
            "aarash\n",
            "kuku\n",
            "bhalu\n"
          ]
        }
      ]
    },
    {
      "cell_type": "code",
      "source": [
        "num_list= [1,2,3,4,5,6,\"aarash\", \"kuku\", \"bhalu\"]\n",
        "i=1\n",
        "while i<= len(num_list):\n",
        "print(i)\n",
        "\n"
      ],
      "metadata": {
        "colab": {
          "base_uri": "https://localhost:8080/",
          "height": 140
        },
        "id": "blHMtkXMruNn",
        "outputId": "272c3890-b89c-4943-95e0-68410c635bdf"
      },
      "execution_count": 16,
      "outputs": [
        {
          "output_type": "error",
          "ename": "IndentationError",
          "evalue": "expected an indented block after 'while' statement on line 3 (<ipython-input-16-b6d0f5b10bd1>, line 4)",
          "traceback": [
            "\u001b[0;36m  File \u001b[0;32m\"<ipython-input-16-b6d0f5b10bd1>\"\u001b[0;36m, line \u001b[0;32m4\u001b[0m\n\u001b[0;31m    print(i)\u001b[0m\n\u001b[0m    ^\u001b[0m\n\u001b[0;31mIndentationError\u001b[0m\u001b[0;31m:\u001b[0m expected an indented block after 'while' statement on line 3\n"
          ]
        }
      ]
    },
    {
      "cell_type": "code",
      "source": [
        "a=(1.2,3)        #\"(   )\" means tuple\n",
        "print(type(a))   #list can be modified but tuple cannot \"tuple is immutuable\""
      ],
      "metadata": {
        "colab": {
          "base_uri": "https://localhost:8080/"
        },
        "id": "DCUcgSZ2tYQe",
        "outputId": "1e98da04-1044-49f5-a8b3-7d971215167e"
      },
      "execution_count": 17,
      "outputs": [
        {
          "output_type": "stream",
          "name": "stdout",
          "text": [
            "<class 'tuple'>\n"
          ]
        }
      ]
    }
  ]
}